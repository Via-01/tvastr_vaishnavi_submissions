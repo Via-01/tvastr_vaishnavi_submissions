{
  "nbformat": 4,
  "nbformat_minor": 0,
  "metadata": {
    "colab": {
      "provenance": [],
      "include_colab_link": true
    },
    "kernelspec": {
      "name": "python3",
      "display_name": "Python 3"
    },
    "language_info": {
      "name": "python"
    }
  },
  "cells": [
    {
      "cell_type": "markdown",
      "metadata": {
        "id": "view-in-github",
        "colab_type": "text"
      },
      "source": [
        "<a href=\"https://colab.research.google.com/github/Via-01/tvastr_vaishnavi_submissions/blob/main/Dashboard.ipynb\" target=\"_parent\"><img src=\"https://colab.research.google.com/assets/colab-badge.svg\" alt=\"Open In Colab\"/></a>"
      ]
    },
    {
      "cell_type": "code",
      "execution_count": null,
      "metadata": {
        "id": "6guh7QLzV5JC"
      },
      "outputs": [],
      "source": [
        "import numpy as np\n",
        "import pandas as pd\n",
        "import matplotlib.pyplot as plt\n",
        "import seaborn as sns\n",
        "import warnings\n",
        "warnings.filterwarnings('ignore')"
      ]
    },
    {
      "cell_type": "code",
      "source": [
        "df = pd.read_csv(\"orders_train.csv\")  # please ensure orders_train.csv is present in file browser with the same name before running\n",
        "df.replace('?', np.nan, inplace=True)\n",
        "df.shape"
      ],
      "metadata": {
        "colab": {
          "base_uri": "https://localhost:8080/"
        },
        "id": "SDrIBHHvWWtf",
        "outputId": "2d2061bc-1031-42a0-faac-5b4532562f8d"
      },
      "execution_count": null,
      "outputs": [
        {
          "output_type": "execute_result",
          "data": {
            "text/plain": [
              "(193971, 14)"
            ]
          },
          "metadata": {},
          "execution_count": 85
        }
      ]
    },
    {
      "cell_type": "code",
      "source": [
        "df['customerID'].nunique()"
      ],
      "metadata": {
        "colab": {
          "base_uri": "https://localhost:8080/"
        },
        "id": "UTAwSbLZs7ZH",
        "outputId": "a788160f-a9ee-4d0d-d100-eddc0e97dc84"
      },
      "execution_count": null,
      "outputs": [
        {
          "output_type": "execute_result",
          "data": {
            "text/plain": [
              "30914"
            ]
          },
          "metadata": {},
          "execution_count": 94
        }
      ]
    },
    {
      "cell_type": "code",
      "source": [
        "print(df.shape)\n",
        "df.info()"
      ],
      "metadata": {
        "colab": {
          "base_uri": "https://localhost:8080/"
        },
        "id": "Tdd-ayD9Whcm",
        "outputId": "e315821f-3e60-401e-fab1-a86f4544f01d"
      },
      "execution_count": null,
      "outputs": [
        {
          "output_type": "stream",
          "name": "stdout",
          "text": [
            "(193971, 14)\n",
            "<class 'pandas.core.frame.DataFrame'>\n",
            "RangeIndex: 193971 entries, 0 to 193970\n",
            "Data columns (total 14 columns):\n",
            " #   Column          Non-Null Count   Dtype  \n",
            "---  ------          --------------   -----  \n",
            " 0   orderItemID     193971 non-null  int64  \n",
            " 1   orderDate       193970 non-null  object \n",
            " 2   deliveryDate    175022 non-null  object \n",
            " 3   itemID          193970 non-null  float64\n",
            " 4   size            193970 non-null  object \n",
            " 5   color           193911 non-null  object \n",
            " 6   manufacturerID  193970 non-null  float64\n",
            " 7   price           193970 non-null  float64\n",
            " 8   customerID      193970 non-null  float64\n",
            " 9   salutation      193970 non-null  object \n",
            " 10  dateOfBirth     176347 non-null  object \n",
            " 11  state           193970 non-null  object \n",
            " 12  creationDate    193970 non-null  object \n",
            " 13  returnShipment  193970 non-null  float64\n",
            "dtypes: float64(5), int64(1), object(8)\n",
            "memory usage: 20.7+ MB\n"
          ]
        }
      ]
    },
    {
      "cell_type": "code",
      "source": [
        "# Convert the date columns to datetime after replacing '?'\n",
        "df['orderDate'] = pd.to_datetime(df['orderDate'], format='%d-%m-%Y', errors='coerce')\n",
        "df['deliveryDate'] = pd.to_datetime(df['deliveryDate'], format='%d-%m-%Y', errors='coerce')\n",
        "df['dateOfBirth'] = pd.to_datetime(df['dateOfBirth'], format='%d-%m-%Y', errors='coerce')\n",
        "df['creationDate'] = pd.to_datetime(df['creationDate'], format='%d-%m-%Y', errors='coerce')"
      ],
      "metadata": {
        "id": "i5PBh8SVW2Qw"
      },
      "execution_count": null,
      "outputs": []
    },
    {
      "cell_type": "code",
      "source": [
        "# Check for missing values\n",
        "df.isnull().sum()"
      ],
      "metadata": {
        "colab": {
          "base_uri": "https://localhost:8080/",
          "height": 523
        },
        "id": "1R8fSVrzXVkI",
        "outputId": "71dd834f-573a-4c6c-be57-e5a87e8180aa"
      },
      "execution_count": null,
      "outputs": [
        {
          "output_type": "execute_result",
          "data": {
            "text/plain": [
              "orderItemID            0\n",
              "orderDate              1\n",
              "deliveryDate      193971\n",
              "itemID                 1\n",
              "size                   1\n",
              "color                 60\n",
              "manufacturerID         1\n",
              "price                  1\n",
              "customerID             1\n",
              "salutation             1\n",
              "dateOfBirth       193971\n",
              "state                  1\n",
              "creationDate           1\n",
              "returnShipment         1\n",
              "dtype: int64"
            ],
            "text/html": [
              "<div>\n",
              "<style scoped>\n",
              "    .dataframe tbody tr th:only-of-type {\n",
              "        vertical-align: middle;\n",
              "    }\n",
              "\n",
              "    .dataframe tbody tr th {\n",
              "        vertical-align: top;\n",
              "    }\n",
              "\n",
              "    .dataframe thead th {\n",
              "        text-align: right;\n",
              "    }\n",
              "</style>\n",
              "<table border=\"1\" class=\"dataframe\">\n",
              "  <thead>\n",
              "    <tr style=\"text-align: right;\">\n",
              "      <th></th>\n",
              "      <th>0</th>\n",
              "    </tr>\n",
              "  </thead>\n",
              "  <tbody>\n",
              "    <tr>\n",
              "      <th>orderItemID</th>\n",
              "      <td>0</td>\n",
              "    </tr>\n",
              "    <tr>\n",
              "      <th>orderDate</th>\n",
              "      <td>1</td>\n",
              "    </tr>\n",
              "    <tr>\n",
              "      <th>deliveryDate</th>\n",
              "      <td>193971</td>\n",
              "    </tr>\n",
              "    <tr>\n",
              "      <th>itemID</th>\n",
              "      <td>1</td>\n",
              "    </tr>\n",
              "    <tr>\n",
              "      <th>size</th>\n",
              "      <td>1</td>\n",
              "    </tr>\n",
              "    <tr>\n",
              "      <th>color</th>\n",
              "      <td>60</td>\n",
              "    </tr>\n",
              "    <tr>\n",
              "      <th>manufacturerID</th>\n",
              "      <td>1</td>\n",
              "    </tr>\n",
              "    <tr>\n",
              "      <th>price</th>\n",
              "      <td>1</td>\n",
              "    </tr>\n",
              "    <tr>\n",
              "      <th>customerID</th>\n",
              "      <td>1</td>\n",
              "    </tr>\n",
              "    <tr>\n",
              "      <th>salutation</th>\n",
              "      <td>1</td>\n",
              "    </tr>\n",
              "    <tr>\n",
              "      <th>dateOfBirth</th>\n",
              "      <td>193971</td>\n",
              "    </tr>\n",
              "    <tr>\n",
              "      <th>state</th>\n",
              "      <td>1</td>\n",
              "    </tr>\n",
              "    <tr>\n",
              "      <th>creationDate</th>\n",
              "      <td>1</td>\n",
              "    </tr>\n",
              "    <tr>\n",
              "      <th>returnShipment</th>\n",
              "      <td>1</td>\n",
              "    </tr>\n",
              "  </tbody>\n",
              "</table>\n",
              "</div><br><label><b>dtype:</b> int64</label>"
            ]
          },
          "metadata": {},
          "execution_count": 88
        }
      ]
    },
    {
      "cell_type": "code",
      "source": [
        "# Impute missing values for numerical columns with the mean\n",
        "numerical_cols = df.select_dtypes(include=['int64']).columns\n",
        "df[numerical_cols] = df[numerical_cols].fillna(df[numerical_cols].mean())\n",
        "\n",
        "# Impute missing values for categorical columns with the mode\n",
        "categorical_cols = df.select_dtypes(include=['object']).columns\n",
        "for col in categorical_cols:\n",
        "    df[col] = df[col].fillna(df[col].mode()[0])\n",
        "\n",
        "# Impute missing values for datetime columns\n",
        "datetime_cols = df.select_dtypes(include=['datetime64']).columns\n",
        "for col in datetime_cols:\n",
        "    if df[col].isnull().any():\n",
        "        mode_value = df[col].mode()\n",
        "        if not mode_value.empty:\n",
        "            df[col] = df[col].fillna(mode_value[0])\n",
        "        else:\n",
        "            df[col] = df[col].fillna(pd.to_datetime('today'))\n",
        "\n",
        "# Check if there are still any missing values\n",
        "print(df.isnull().sum())"
      ],
      "metadata": {
        "colab": {
          "base_uri": "https://localhost:8080/"
        },
        "id": "ghZ5NAgKZ4hQ",
        "outputId": "dd8e6ef7-018b-4569-fe88-8fbb38a14d2b"
      },
      "execution_count": null,
      "outputs": [
        {
          "output_type": "stream",
          "name": "stdout",
          "text": [
            "orderItemID       0\n",
            "orderDate         0\n",
            "deliveryDate      0\n",
            "itemID            1\n",
            "size              0\n",
            "color             0\n",
            "manufacturerID    1\n",
            "price             1\n",
            "customerID        1\n",
            "salutation        0\n",
            "dateOfBirth       0\n",
            "state             0\n",
            "creationDate      0\n",
            "returnShipment    1\n",
            "dtype: int64\n"
          ]
        }
      ]
    },
    {
      "cell_type": "code",
      "source": [
        "# Calculate order processing time (in days)\n",
        "df['processingTime'] = (df['deliveryDate'] - df['orderDate']).dt.days\n",
        "\n",
        "df['customerAge'] = (pd.to_datetime('today') - df['dateOfBirth']).dt.days //365\n",
        "\n",
        "# Calculate account age -- And here.  You were subtracting NaT values.\n",
        "df['accountAge'] = (pd.to_datetime('today') - df['creationDate']).dt.days // 365\n"
      ],
      "metadata": {
        "id": "Fqg-_RjvbEw4"
      },
      "execution_count": null,
      "outputs": []
    },
    {
      "cell_type": "code",
      "source": [
        "import plotly.express as px\n",
        "\n",
        "def plot_interactive_return_rates(df, size_col='size', return_col='returnShipment'):\n",
        "    \"\"\"Plots interactive bar chart using Plotly.\"\"\"\n",
        "\n",
        "    return_rate_by_size = df.groupby(size_col)[return_col].mean().reset_index()\n",
        "\n",
        "    fig = px.bar(return_rate_by_size, x=size_col, y=return_col,\n",
        "                 title='Return Rate by Product Size',\n",
        "                 labels={'returnShipment': 'Return Rate', 'size': 'Product Size'})\n",
        "    fig.show()\n",
        "\n",
        "plot_interactive_return_rates(df)"
      ],
      "metadata": {
        "colab": {
          "base_uri": "https://localhost:8080/",
          "height": 542
        },
        "id": "-pOxU9pMbJWn",
        "outputId": "fe741e07-77c1-4c5c-a317-ca2dd6397321"
      },
      "execution_count": null,
      "outputs": [
        {
          "output_type": "display_data",
          "data": {
            "text/html": [
              "<html>\n",
              "<head><meta charset=\"utf-8\" /></head>\n",
              "<body>\n",
              "    <div>            <script src=\"https://cdnjs.cloudflare.com/ajax/libs/mathjax/2.7.5/MathJax.js?config=TeX-AMS-MML_SVG\"></script><script type=\"text/javascript\">if (window.MathJax && window.MathJax.Hub && window.MathJax.Hub.Config) {window.MathJax.Hub.Config({SVG: {font: \"STIX-Web\"}});}</script>                <script type=\"text/javascript\">window.PlotlyConfig = {MathJaxConfig: 'local'};</script>\n",
              "        <script charset=\"utf-8\" src=\"https://cdn.plot.ly/plotly-2.35.2.min.js\"></script>                <div id=\"cd2567e2-1242-4fa0-bc22-69567d2384dc\" class=\"plotly-graph-div\" style=\"height:525px; width:100%;\"></div>            <script type=\"text/javascript\">                                    window.PLOTLYENV=window.PLOTLYENV || {};                                    if (document.getElementById(\"cd2567e2-1242-4fa0-bc22-69567d2384dc\")) {                    Plotly.newPlot(                        \"cd2567e2-1242-4fa0-bc22-69567d2384dc\",                        [{\"alignmentgroup\":\"True\",\"hovertemplate\":\"Product Size=%{x}\\u003cbr\\u003eReturn Rate=%{y}\\u003cextra\\u003e\\u003c\\u002fextra\\u003e\",\"legendgroup\":\"\",\"marker\":{\"color\":\"#636efa\",\"pattern\":{\"shape\":\"\"}},\"name\":\"\",\"offsetgroup\":\"\",\"orientation\":\"v\",\"showlegend\":false,\"textposition\":\"auto\",\"x\":[\"1\",\"10\",\"10+\",\"100\",\"104\",\"105\",\"11\",\"11+\",\"116\",\"12\",\"128\",\"13\",\"13+\",\"14\",\"140\",\"152\",\"164\",\"176\",\"18\",\"19\",\"2\",\"2+\",\"20\",\"21\",\"22\",\"23\",\"24\",\"25\",\"26\",\"27\",\"28\",\"29\",\"3\",\"3+\",\"30\",\"31\",\"3132\",\"32\",\"33\",\"3332\",\"34\",\"3432\",\"3434\",\"35\",\"36\",\"36+\",\"3632\",\"3634\",\"37\",\"37+\",\"38\",\"38+\",\"3832\",\"39\",\"39+\",\"4\",\"4+\",\"40\",\"40+\",\"4032\",\"4034\",\"41\",\"41+\",\"42\",\"42+\",\"43\",\"43+\",\"44\",\"44+\",\"45\",\"45+\",\"46\",\"46+\",\"47\",\"48\",\"49\",\"5\",\"5+\",\"50\",\"52\",\"54\",\"56\",\"58\",\"6\",\"6+\",\"7\",\"7+\",\"76\",\"8\",\"8+\",\"80\",\"84\",\"85\",\"88\",\"9\",\"9+\",\"90\",\"95\",\"L\",\"S\",\"l\",\"m\",\"s\",\"unsized\",\"xl\",\"xs\",\"xxl\",\"xxxl\"],\"xaxis\":\"x\",\"y\":[0.4838709677419355,0.522673031026253,0.5421348314606742,0.5333333333333333,0.1643835616438356,0.0,0.5266457680250783,0.5227272727272727,0.1885245901639344,0.5,0.26875,0.5569620253164557,0.3333333333333333,0.4166666666666667,0.2214765100671141,0.2765957446808511,0.22580645161290322,0.16666666666666666,0.532258064516129,0.5572139303482587,0.3333333333333333,1.0,0.502092050209205,0.541958041958042,0.5807860262008734,0.582010582010582,0.5269709543568465,0.43884892086330934,0.34057971014492755,0.3416149068322981,0.34814814814814815,0.43783783783783786,0.2962962962962963,0.5555555555555556,0.532608695652174,0.49356223175965663,1.0,0.43564356435643564,0.42857142857142855,0.4358974358974359,0.4156378600823045,0.0,0.0,0.3646723646723647,0.4925642181162686,0.4878048780487805,0.5263157894736842,0.5,0.47131056039294483,0.5401459854014599,0.468087130219728,0.49477351916376305,0.42857142857142855,0.4846016600729191,0.5158227848101266,0.5176470588235295,0.4759036144578313,0.5200636502006365,0.5583941605839416,0.5555555555555556,1.0,0.5247295208655333,0.48295454545454547,0.5215224286361577,0.5388888888888889,0.46396396396396394,0.2777777777777778,0.5260676650027731,0.6428571428571429,0.3707482993197279,0.4444444444444444,0.5695012264922322,0.38461538461538464,0.3050847457627119,0.5692401960784313,0.2,0.4567627494456763,0.49789915966386555,0.5515320334261838,0.34,0.37209302325581395,0.3448275862068966,0.6,0.5844594594594594,0.5544794188861986,0.5722145804676754,0.5083969465648855,1.0,0.5584988962472406,0.45161290322580644,0.6,0.3333333333333333,0.0,1.0,0.49930843706777317,0.4585365853658537,0.05555555555555555,0.0,1.0,0.5,0.4648620510150963,0.4598832281759111,0.47156101227762465,0.2681453954244571,0.47492000166230314,0.4117647058823529,0.4409235668789809,0.3504273504273504],\"yaxis\":\"y\",\"type\":\"bar\"}],                        {\"template\":{\"data\":{\"histogram2dcontour\":[{\"type\":\"histogram2dcontour\",\"colorbar\":{\"outlinewidth\":0,\"ticks\":\"\"},\"colorscale\":[[0.0,\"#0d0887\"],[0.1111111111111111,\"#46039f\"],[0.2222222222222222,\"#7201a8\"],[0.3333333333333333,\"#9c179e\"],[0.4444444444444444,\"#bd3786\"],[0.5555555555555556,\"#d8576b\"],[0.6666666666666666,\"#ed7953\"],[0.7777777777777778,\"#fb9f3a\"],[0.8888888888888888,\"#fdca26\"],[1.0,\"#f0f921\"]]}],\"choropleth\":[{\"type\":\"choropleth\",\"colorbar\":{\"outlinewidth\":0,\"ticks\":\"\"}}],\"histogram2d\":[{\"type\":\"histogram2d\",\"colorbar\":{\"outlinewidth\":0,\"ticks\":\"\"},\"colorscale\":[[0.0,\"#0d0887\"],[0.1111111111111111,\"#46039f\"],[0.2222222222222222,\"#7201a8\"],[0.3333333333333333,\"#9c179e\"],[0.4444444444444444,\"#bd3786\"],[0.5555555555555556,\"#d8576b\"],[0.6666666666666666,\"#ed7953\"],[0.7777777777777778,\"#fb9f3a\"],[0.8888888888888888,\"#fdca26\"],[1.0,\"#f0f921\"]]}],\"heatmap\":[{\"type\":\"heatmap\",\"colorbar\":{\"outlinewidth\":0,\"ticks\":\"\"},\"colorscale\":[[0.0,\"#0d0887\"],[0.1111111111111111,\"#46039f\"],[0.2222222222222222,\"#7201a8\"],[0.3333333333333333,\"#9c179e\"],[0.4444444444444444,\"#bd3786\"],[0.5555555555555556,\"#d8576b\"],[0.6666666666666666,\"#ed7953\"],[0.7777777777777778,\"#fb9f3a\"],[0.8888888888888888,\"#fdca26\"],[1.0,\"#f0f921\"]]}],\"heatmapgl\":[{\"type\":\"heatmapgl\",\"colorbar\":{\"outlinewidth\":0,\"ticks\":\"\"},\"colorscale\":[[0.0,\"#0d0887\"],[0.1111111111111111,\"#46039f\"],[0.2222222222222222,\"#7201a8\"],[0.3333333333333333,\"#9c179e\"],[0.4444444444444444,\"#bd3786\"],[0.5555555555555556,\"#d8576b\"],[0.6666666666666666,\"#ed7953\"],[0.7777777777777778,\"#fb9f3a\"],[0.8888888888888888,\"#fdca26\"],[1.0,\"#f0f921\"]]}],\"contourcarpet\":[{\"type\":\"contourcarpet\",\"colorbar\":{\"outlinewidth\":0,\"ticks\":\"\"}}],\"contour\":[{\"type\":\"contour\",\"colorbar\":{\"outlinewidth\":0,\"ticks\":\"\"},\"colorscale\":[[0.0,\"#0d0887\"],[0.1111111111111111,\"#46039f\"],[0.2222222222222222,\"#7201a8\"],[0.3333333333333333,\"#9c179e\"],[0.4444444444444444,\"#bd3786\"],[0.5555555555555556,\"#d8576b\"],[0.6666666666666666,\"#ed7953\"],[0.7777777777777778,\"#fb9f3a\"],[0.8888888888888888,\"#fdca26\"],[1.0,\"#f0f921\"]]}],\"surface\":[{\"type\":\"surface\",\"colorbar\":{\"outlinewidth\":0,\"ticks\":\"\"},\"colorscale\":[[0.0,\"#0d0887\"],[0.1111111111111111,\"#46039f\"],[0.2222222222222222,\"#7201a8\"],[0.3333333333333333,\"#9c179e\"],[0.4444444444444444,\"#bd3786\"],[0.5555555555555556,\"#d8576b\"],[0.6666666666666666,\"#ed7953\"],[0.7777777777777778,\"#fb9f3a\"],[0.8888888888888888,\"#fdca26\"],[1.0,\"#f0f921\"]]}],\"mesh3d\":[{\"type\":\"mesh3d\",\"colorbar\":{\"outlinewidth\":0,\"ticks\":\"\"}}],\"scatter\":[{\"fillpattern\":{\"fillmode\":\"overlay\",\"size\":10,\"solidity\":0.2},\"type\":\"scatter\"}],\"parcoords\":[{\"type\":\"parcoords\",\"line\":{\"colorbar\":{\"outlinewidth\":0,\"ticks\":\"\"}}}],\"scatterpolargl\":[{\"type\":\"scatterpolargl\",\"marker\":{\"colorbar\":{\"outlinewidth\":0,\"ticks\":\"\"}}}],\"bar\":[{\"error_x\":{\"color\":\"#2a3f5f\"},\"error_y\":{\"color\":\"#2a3f5f\"},\"marker\":{\"line\":{\"color\":\"#E5ECF6\",\"width\":0.5},\"pattern\":{\"fillmode\":\"overlay\",\"size\":10,\"solidity\":0.2}},\"type\":\"bar\"}],\"scattergeo\":[{\"type\":\"scattergeo\",\"marker\":{\"colorbar\":{\"outlinewidth\":0,\"ticks\":\"\"}}}],\"scatterpolar\":[{\"type\":\"scatterpolar\",\"marker\":{\"colorbar\":{\"outlinewidth\":0,\"ticks\":\"\"}}}],\"histogram\":[{\"marker\":{\"pattern\":{\"fillmode\":\"overlay\",\"size\":10,\"solidity\":0.2}},\"type\":\"histogram\"}],\"scattergl\":[{\"type\":\"scattergl\",\"marker\":{\"colorbar\":{\"outlinewidth\":0,\"ticks\":\"\"}}}],\"scatter3d\":[{\"type\":\"scatter3d\",\"line\":{\"colorbar\":{\"outlinewidth\":0,\"ticks\":\"\"}},\"marker\":{\"colorbar\":{\"outlinewidth\":0,\"ticks\":\"\"}}}],\"scattermapbox\":[{\"type\":\"scattermapbox\",\"marker\":{\"colorbar\":{\"outlinewidth\":0,\"ticks\":\"\"}}}],\"scatterternary\":[{\"type\":\"scatterternary\",\"marker\":{\"colorbar\":{\"outlinewidth\":0,\"ticks\":\"\"}}}],\"scattercarpet\":[{\"type\":\"scattercarpet\",\"marker\":{\"colorbar\":{\"outlinewidth\":0,\"ticks\":\"\"}}}],\"carpet\":[{\"aaxis\":{\"endlinecolor\":\"#2a3f5f\",\"gridcolor\":\"white\",\"linecolor\":\"white\",\"minorgridcolor\":\"white\",\"startlinecolor\":\"#2a3f5f\"},\"baxis\":{\"endlinecolor\":\"#2a3f5f\",\"gridcolor\":\"white\",\"linecolor\":\"white\",\"minorgridcolor\":\"white\",\"startlinecolor\":\"#2a3f5f\"},\"type\":\"carpet\"}],\"table\":[{\"cells\":{\"fill\":{\"color\":\"#EBF0F8\"},\"line\":{\"color\":\"white\"}},\"header\":{\"fill\":{\"color\":\"#C8D4E3\"},\"line\":{\"color\":\"white\"}},\"type\":\"table\"}],\"barpolar\":[{\"marker\":{\"line\":{\"color\":\"#E5ECF6\",\"width\":0.5},\"pattern\":{\"fillmode\":\"overlay\",\"size\":10,\"solidity\":0.2}},\"type\":\"barpolar\"}],\"pie\":[{\"automargin\":true,\"type\":\"pie\"}]},\"layout\":{\"autotypenumbers\":\"strict\",\"colorway\":[\"#636efa\",\"#EF553B\",\"#00cc96\",\"#ab63fa\",\"#FFA15A\",\"#19d3f3\",\"#FF6692\",\"#B6E880\",\"#FF97FF\",\"#FECB52\"],\"font\":{\"color\":\"#2a3f5f\"},\"hovermode\":\"closest\",\"hoverlabel\":{\"align\":\"left\"},\"paper_bgcolor\":\"white\",\"plot_bgcolor\":\"#E5ECF6\",\"polar\":{\"bgcolor\":\"#E5ECF6\",\"angularaxis\":{\"gridcolor\":\"white\",\"linecolor\":\"white\",\"ticks\":\"\"},\"radialaxis\":{\"gridcolor\":\"white\",\"linecolor\":\"white\",\"ticks\":\"\"}},\"ternary\":{\"bgcolor\":\"#E5ECF6\",\"aaxis\":{\"gridcolor\":\"white\",\"linecolor\":\"white\",\"ticks\":\"\"},\"baxis\":{\"gridcolor\":\"white\",\"linecolor\":\"white\",\"ticks\":\"\"},\"caxis\":{\"gridcolor\":\"white\",\"linecolor\":\"white\",\"ticks\":\"\"}},\"coloraxis\":{\"colorbar\":{\"outlinewidth\":0,\"ticks\":\"\"}},\"colorscale\":{\"sequential\":[[0.0,\"#0d0887\"],[0.1111111111111111,\"#46039f\"],[0.2222222222222222,\"#7201a8\"],[0.3333333333333333,\"#9c179e\"],[0.4444444444444444,\"#bd3786\"],[0.5555555555555556,\"#d8576b\"],[0.6666666666666666,\"#ed7953\"],[0.7777777777777778,\"#fb9f3a\"],[0.8888888888888888,\"#fdca26\"],[1.0,\"#f0f921\"]],\"sequentialminus\":[[0.0,\"#0d0887\"],[0.1111111111111111,\"#46039f\"],[0.2222222222222222,\"#7201a8\"],[0.3333333333333333,\"#9c179e\"],[0.4444444444444444,\"#bd3786\"],[0.5555555555555556,\"#d8576b\"],[0.6666666666666666,\"#ed7953\"],[0.7777777777777778,\"#fb9f3a\"],[0.8888888888888888,\"#fdca26\"],[1.0,\"#f0f921\"]],\"diverging\":[[0,\"#8e0152\"],[0.1,\"#c51b7d\"],[0.2,\"#de77ae\"],[0.3,\"#f1b6da\"],[0.4,\"#fde0ef\"],[0.5,\"#f7f7f7\"],[0.6,\"#e6f5d0\"],[0.7,\"#b8e186\"],[0.8,\"#7fbc41\"],[0.9,\"#4d9221\"],[1,\"#276419\"]]},\"xaxis\":{\"gridcolor\":\"white\",\"linecolor\":\"white\",\"ticks\":\"\",\"title\":{\"standoff\":15},\"zerolinecolor\":\"white\",\"automargin\":true,\"zerolinewidth\":2},\"yaxis\":{\"gridcolor\":\"white\",\"linecolor\":\"white\",\"ticks\":\"\",\"title\":{\"standoff\":15},\"zerolinecolor\":\"white\",\"automargin\":true,\"zerolinewidth\":2},\"scene\":{\"xaxis\":{\"backgroundcolor\":\"#E5ECF6\",\"gridcolor\":\"white\",\"linecolor\":\"white\",\"showbackground\":true,\"ticks\":\"\",\"zerolinecolor\":\"white\",\"gridwidth\":2},\"yaxis\":{\"backgroundcolor\":\"#E5ECF6\",\"gridcolor\":\"white\",\"linecolor\":\"white\",\"showbackground\":true,\"ticks\":\"\",\"zerolinecolor\":\"white\",\"gridwidth\":2},\"zaxis\":{\"backgroundcolor\":\"#E5ECF6\",\"gridcolor\":\"white\",\"linecolor\":\"white\",\"showbackground\":true,\"ticks\":\"\",\"zerolinecolor\":\"white\",\"gridwidth\":2}},\"shapedefaults\":{\"line\":{\"color\":\"#2a3f5f\"}},\"annotationdefaults\":{\"arrowcolor\":\"#2a3f5f\",\"arrowhead\":0,\"arrowwidth\":1},\"geo\":{\"bgcolor\":\"white\",\"landcolor\":\"#E5ECF6\",\"subunitcolor\":\"white\",\"showland\":true,\"showlakes\":true,\"lakecolor\":\"white\"},\"title\":{\"x\":0.05},\"mapbox\":{\"style\":\"light\"}}},\"xaxis\":{\"anchor\":\"y\",\"domain\":[0.0,1.0],\"title\":{\"text\":\"Product Size\"}},\"yaxis\":{\"anchor\":\"x\",\"domain\":[0.0,1.0],\"title\":{\"text\":\"Return Rate\"}},\"legend\":{\"tracegroupgap\":0},\"title\":{\"text\":\"Return Rate by Product Size\"},\"barmode\":\"relative\"},                        {\"responsive\": true}                    ).then(function(){\n",
              "                            \n",
              "var gd = document.getElementById('cd2567e2-1242-4fa0-bc22-69567d2384dc');\n",
              "var x = new MutationObserver(function (mutations, observer) {{\n",
              "        var display = window.getComputedStyle(gd).display;\n",
              "        if (!display || display === 'none') {{\n",
              "            console.log([gd, 'removed!']);\n",
              "            Plotly.purge(gd);\n",
              "            observer.disconnect();\n",
              "        }}\n",
              "}});\n",
              "\n",
              "// Listen for the removal of the full notebook cells\n",
              "var notebookContainer = gd.closest('#notebook-container');\n",
              "if (notebookContainer) {{\n",
              "    x.observe(notebookContainer, {childList: true});\n",
              "}}\n",
              "\n",
              "// Listen for the clearing of the current output cell\n",
              "var outputEl = gd.closest('.output');\n",
              "if (outputEl) {{\n",
              "    x.observe(outputEl, {childList: true});\n",
              "}}\n",
              "\n",
              "                        })                };                            </script>        </div>\n",
              "</body>\n",
              "</html>"
            ]
          },
          "metadata": {}
        }
      ]
    },
    {
      "cell_type": "code",
      "source": [
        "# import pandas as pd\n",
        "# import plotly.express as px\n",
        "# import plotly.graph_objects as go\n",
        "# import dash\n",
        "# from dash import dcc, html\n",
        "# from dash.dependencies import Input, Output\n",
        "\n",
        "# def plot_return_rate_by_size(df):\n",
        "#     \"\"\"Plots return rate by product size.\"\"\"\n",
        "#     return_rate_by_size = df.groupby('size')['returnShipment'].mean().reset_index()\n",
        "#     fig = px.bar(return_rate_by_size, x='size', y='returnShipment',\n",
        "#                  title='Return Rate by Product Size',\n",
        "#                  labels={'returnShipment': 'Return Rate', 'size': 'Product Size'})\n",
        "#     return fig, return_rate_by_size\n",
        "\n",
        "# def plot_return_rate_by_color(df):\n",
        "#     \"\"\"Plots return rate by product color.\"\"\"\n",
        "#     return_rate_by_color = df.groupby('color')['returnShipment'].mean().reset_index()\n",
        "#     fig = px.bar(return_rate_by_color, x='color', y='returnShipment',\n",
        "#                  title='Return Rate by Product Color',\n",
        "#                  labels={'returnShipment': 'Return Rate', 'color': 'Color'})\n",
        "#     return fig, return_rate_by_color\n",
        "\n",
        "# def plot_return_rate_by_manufacturer(df):\n",
        "#     \"\"\"Plots return rate by manufacturer.\"\"\"\n",
        "#     return_rate_by_manufacturer = df.groupby('manufacturerID')['returnShipment'].mean().reset_index()\n",
        "#     fig = px.bar(return_rate_by_manufacturer, x='manufacturerID', y='returnShipment',\n",
        "#                  title='Return Rate by Manufacturer',\n",
        "#                  labels={'returnShipment': 'Return Rate', 'manufacturerID': 'Manufacturer ID'})\n",
        "#     return fig, return_rate_by_manufacturer\n",
        "\n",
        "# def plot_return_rate_by_state(df):\n",
        "#     \"\"\"Plots return rate by customer state.\"\"\"\n",
        "#     return_rate_by_state = df.groupby('state')['returnShipment'].mean().reset_index()\n",
        "#     fig = px.bar(return_rate_by_state, x='state', y='returnShipment',\n",
        "#                  title='Return Rate by State',\n",
        "#                  labels={'returnShipment': 'Return Rate', 'state': 'State'})\n",
        "#     return fig, return_rate_by_state\n",
        "\n",
        "# def plot_return_rate_by_age_group(df):\n",
        "#     \"\"\"Plots return rate by customer age group.\"\"\"\n",
        "#     bins = [18, 30, 40, 50, 60, 100]\n",
        "#     labels = ['18-30', '31-40', '41-50', '51-60', '60+']\n",
        "#     df['ageGroup'] = pd.cut(df['customerAge'], bins=bins, labels=labels)\n",
        "#     return_rate_by_age = df.groupby('ageGroup')['returnShipment'].mean().reset_index()\n",
        "#     fig = px.bar(return_rate_by_age, x='ageGroup', y='returnShipment',\n",
        "#                  title='Return Rate by Customer Age Group',\n",
        "#                  labels={'returnShipment': 'Return Rate', 'ageGroup': 'Age Group'})\n",
        "#     return fig, return_rate_by_age\n",
        "\n",
        "# def plot_return_rate_by_account_age(df):\n",
        "#     \"\"\"Plots return rate by customer account age.\"\"\"\n",
        "#     bins = [0, 30, 90, 180, 365, float('inf')]\n",
        "#     labels = ['<1 Month', '1-3 Months', '3-6 Months', '6-12 Months', '12+ Months']\n",
        "#     df['accountAgeGroup'] = pd.cut(df['accountAge'], bins=bins, labels=labels)\n",
        "#     return_rate_by_account_age = df.groupby('accountAgeGroup')['returnShipment'].mean().reset_index()\n",
        "#     fig = px.bar(return_rate_by_account_age, x='accountAgeGroup', y='returnShipment',\n",
        "#                  title='Return Rate by Customer Account Age',\n",
        "#                  labels={'returnShipment': 'Return Rate', 'accountAgeGroup': 'Account Age Group'})\n",
        "#     return fig, return_rate_by_account_age\n",
        "\n",
        "# def plot_return_rate_by_timeliness(df):\n",
        "#     \"\"\"Plots return rate by delivery timeliness.\"\"\"\n",
        "#     return_rate_by_timeliness = df.groupby('onTimeDelivery')['returnShipment'].mean().reset_index()\n",
        "#     return_rate_by_timeliness['onTimeDelivery'] = return_rate_by_timeliness['onTimeDelivery'].map({True: 'On Time', False: 'Delayed'})\n",
        "#     fig = px.bar(return_rate_by_timeliness, x='onTimeDelivery', y='returnShipment',\n",
        "#                  title='Return Rate by Delivery Timeliness',\n",
        "#                  labels={'returnShipment': 'Return Rate', 'onTimeDelivery': 'Delivery Timeliness'})\n",
        "#     return fig, return_rate_by_timeliness\n",
        "\n",
        "# def plot_return_rate_by_price_range(df):\n",
        "#     \"\"\"Plots return rate by price range.\"\"\"\n",
        "#     bins = [0, 50, 100, 200, 500, 1000]\n",
        "#     labels = ['<50', '50-100', '100-200', '200-500', '500+']\n",
        "#     df['priceRange'] = pd.cut(df['price'], bins=bins, labels=labels)\n",
        "#     return_rate_by_price = df.groupby('priceRange')['returnShipment'].mean().reset_index()\n",
        "#     fig = px.bar(return_rate_by_price, x='priceRange', y='returnShipment',\n",
        "#                  title='Return Rate by Price Range',\n",
        "#                  labels={'returnShipment': 'Return Rate', 'priceRange': 'Price Range'})\n",
        "#     return fig, return_rate_by_price\n",
        "\n",
        "# def plot_return_rate_by_salutation(df):\n",
        "#     \"\"\"Plots return rate by customer salutation.\"\"\"\n",
        "#     return_rate_by_salutation = df.groupby('salutation')['returnShipment'].mean().reset_index()\n",
        "#     fig = px.bar(return_rate_by_salutation, x='salutation', y='returnShipment',\n",
        "#                  title='Return Rate by Customer Salutation',\n",
        "#                  labels={'returnShipment': 'Return Rate', 'salutation': 'Salutation'})\n",
        "#     return fig, return_rate_by_salutation\n",
        "\n",
        "# def plot_return_rate_over_time(df):\n",
        "#     \"\"\"Plots return rate over time (monthly).\"\"\"\n",
        "#     df['orderMonth'] = pd.to_datetime(df['orderDate']).dt.to_period('M')\n",
        "#     return_rate_by_month = df.groupby('orderMonth')['returnShipment'].mean().reset_index()\n",
        "#     fig = px.line(return_rate_by_month, x='orderMonth', y='returnShipment',\n",
        "#                   title='Return Rate Over Time (Monthly)',\n",
        "#                   labels={'returnShipment': 'Return Rate', 'orderMonth': 'Order Month'})\n",
        "#     return fig, return_rate_by_month\n",
        "\n",
        "# def plot_return_rate_vs_price(df):\n",
        "#     \"\"\"Plots return rate vs. price.\"\"\"\n",
        "#     fig = px.scatter(df, x='price', y='returnShipment',\n",
        "#                      title='Return Rate vs. Price',\n",
        "#                      labels={'returnShipment': 'Return Rate', 'price': 'Price'})\n",
        "#     return fig, df[['price', 'returnShipment']]\n",
        "\n",
        "# def plot_return_rate_vs_processing_time(df):\n",
        "#     \"\"\"Plots return rate vs. processing time.\"\"\"\n",
        "#     fig = px.scatter(df, x='processingTime', y='returnShipment',\n",
        "#                      title='Return Rate vs. Processing Time',\n",
        "#                      labels={'returnShipment': 'Return Rate', 'processingTime': 'Processing Time'})\n",
        "#     return fig, df[['processingTime', 'returnShipment']]\n",
        "\n",
        "# def plot_return_rate_vs_account_age_numerical(df):\n",
        "#     \"\"\"Plots return rate vs. account age (numerical).\"\"\"\n",
        "#     fig = px.scatter(df, x='accountAge', y='returnShipment',\n",
        "#                      title='Return Rate vs. Account Age (Days)',\n",
        "#                      labels={'returnShipment': 'Return Rate', 'accountAge': 'Account Age (Days)'})\n",
        "#     return fig, df[['accountAge', 'returnShipment']]\n",
        "\n"
      ],
      "metadata": {
        "id": "3uwAo0kheCmX"
      },
      "execution_count": null,
      "outputs": []
    },
    {
      "cell_type": "code",
      "source": [
        "import pandas as pd\n",
        "import plotly.express as px\n",
        "import plotly.io as pio\n",
        "\n",
        "# --- Define Plotting Functions ---\n",
        "def plot_return_rate_by_size(df):\n",
        "    df['size'] = df['size'].astype(str)\n",
        "    return_rate_by_size = df.groupby('size')['returnShipment'].mean().reset_index()\n",
        "    return px.bar(return_rate_by_size, x='size', y='returnShipment', title='Return Rate by Product Size')\n",
        "\n",
        "def plot_return_rate_by_color(df):\n",
        "    return_rate_by_color = df.groupby('color')['returnShipment'].mean().reset_index()\n",
        "    return px.bar(return_rate_by_color, x='color', y='returnShipment', title='Return Rate by Product Color')\n",
        "\n",
        "def plot_return_rate_by_manufacturer(df):\n",
        "    return_rate_by_manufacturer = df.groupby('manufacturerID')['returnShipment'].mean().reset_index()\n",
        "    return px.bar(return_rate_by_manufacturer, x='manufacturerID', y='returnShipment', title='Return Rate by Manufacturer')\n",
        "\n",
        "def plot_return_rate_by_state(df):\n",
        "    return_rate_by_state = df.groupby('state')['returnShipment'].mean().reset_index()\n",
        "    return px.bar(return_rate_by_state, x='state', y='returnShipment', title='Return Rate by State')\n",
        "\n",
        "def plot_return_rate_by_age_group(df):\n",
        "    bins = [18, 30, 40, 50, 60, 100]\n",
        "    labels = ['18-30', '31-40', '41-50', '51-60', '60+']\n",
        "    df['ageGroup'] = pd.cut(df['customerAge'], bins=bins, labels=labels)\n",
        "    return_rate_by_age = df.groupby('ageGroup')['returnShipment'].mean().reset_index()\n",
        "    return px.bar(return_rate_by_age, x='ageGroup', y='returnShipment', title='Return Rate by Customer Age Group')\n",
        "\n",
        "def plot_return_rate_by_account_age(df):\n",
        "    bins = [0, 30, 90, 180, 365, float('inf')]\n",
        "    labels = ['<1 Month', '1-3 Months', '3-6 Months', '6-12 Months', '12+ Months']\n",
        "    df['accountAgeGroup'] = pd.cut(df['accountAge'], bins=bins, labels=labels)\n",
        "    return_rate_by_account_age = df.groupby('accountAgeGroup')['returnShipment'].mean().reset_index()\n",
        "    return px.bar(return_rate_by_account_age, x='accountAgeGroup', y='returnShipment', title='Return Rate by Account Age')\n",
        "\n",
        "def plot_return_rate_by_price_range(df):\n",
        "    bins = [0, 50, 100, 200, 500, 1000]\n",
        "    labels = ['<50', '50-100', '100-200', '200-500', '500+']\n",
        "    df['priceRange'] = pd.cut(df['price'], bins=bins, labels=labels)\n",
        "    return_rate_by_price = df.groupby('priceRange')['returnShipment'].mean().reset_index()\n",
        "    return px.bar(return_rate_by_price, x='priceRange', y='returnShipment', title='Return Rate by Price Range')\n",
        "\n",
        "def plot_return_rate_by_salutation(df):\n",
        "    return_rate_by_salutation = df.groupby('salutation')['returnShipment'].mean().reset_index()\n",
        "    return px.bar(return_rate_by_salutation, x='salutation', y='returnShipment', title='Return Rate by Customer Salutation')\n",
        "\n",
        "def plot_return_rate_vs_price(df):\n",
        "    price_data = df.groupby('price')['returnShipment'].mean().reset_index()\n",
        "    return px.line(price_data, x='price', y='returnShipment', title='Return Rate vs. Price')\n",
        "\n",
        "def plot_return_rate_vs_processing_time(df):\n",
        "    processing_data = df.groupby('processingTime')['returnShipment'].mean().reset_index()\n",
        "    return px.line(processing_data, x='processingTime', y='returnShipment', title='Return Rate vs. Processing Time')\n",
        "\n",
        "def plot_return_rate_vs_account_age_numerical(df):\n",
        "    account_age_data = df.groupby('accountAge')['returnShipment'].mean().reset_index()\n",
        "    return px.line(account_age_data, x='accountAge', y='returnShipment', title='Return Rate vs. Account Age')\n",
        "\n",
        "# --- Generate Figures ---\n",
        "figures = [\n",
        "    plot_return_rate_by_size(df),\n",
        "    plot_return_rate_by_color(df),\n",
        "    plot_return_rate_by_manufacturer(df),\n",
        "    plot_return_rate_by_state(df),\n",
        "    plot_return_rate_by_age_group(df),\n",
        "    plot_return_rate_by_account_age(df),\n",
        "    plot_return_rate_by_price_range(df),\n",
        "    plot_return_rate_by_salutation(df),\n",
        "    plot_return_rate_vs_price(df),\n",
        "    plot_return_rate_vs_processing_time(df),\n",
        "    plot_return_rate_vs_account_age_numerical(df)\n",
        "]\n",
        "\n",
        "# --- Convert Figures to HTML Divs ---\n",
        "html_figures = [pio.to_html(fig, full_html=False) for fig in figures]\n",
        "\n",
        "# --- Generate HTML File ---\n",
        "html_content = f\"\"\"\n",
        "<!DOCTYPE html>\n",
        "<html>\n",
        "<head>\n",
        "    <title>Product Returns Dashboard</title>\n",
        "    <script src=\"https://cdn.plot.ly/plotly-latest.min.js\"></script>\n",
        "    <style>\n",
        "        body {{ font-family: Arial, sans-serif; text-align: center; }}\n",
        "        .chart-container {{ width: 80%; margin: auto; padding: 20px; }}\n",
        "    </style>\n",
        "</head>\n",
        "<body>\n",
        "    <h1>Product Returns Dashboard</h1>\n",
        "    {\"\".join(f'<div class=\"chart-container\">{fig}</div>' for fig in html_figures)}\n",
        "</body>\n",
        "</html>\n",
        "\"\"\"\n",
        "\n",
        "# --- Save to File ---\n",
        "with open(\"dashboard.html\", \"w\", encoding=\"utf-8\") as f:\n",
        "    f.write(html_content)\n",
        "\n",
        "print(\"✅ Dashboard saved as 'dashboard.html'. Open it in a browser to view the charts!\")\n",
        "print(\"Download dashboard.html from file browser and run.\")"
      ],
      "metadata": {
        "colab": {
          "base_uri": "https://localhost:8080/"
        },
        "id": "9CCoGByBuK3L",
        "outputId": "1d2309df-20dc-4c93-f197-ecde385cdef0"
      },
      "execution_count": null,
      "outputs": [
        {
          "output_type": "stream",
          "name": "stdout",
          "text": [
            "✅ Dashboard saved as 'dashboard.html'. Open it in a browser to view the charts!\n",
            "Download dashboard.html from file browser and run.\n"
          ]
        }
      ]
    }
  ]
}